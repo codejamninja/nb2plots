{
 "cells": [
  {
   "cell_type": "markdown",
   "metadata": {},
   "source": [
    "## Links in Markdown\n",
    "\n",
    "By default, if your ReST documents has internal links, then generated Markdown\n",
    "output like the Notebook files or the Python code files drop these links,\n",
    "replacing them with some suitable text.\n",
    "\n",
    "Internal links can be [internal to the document](https://matthew-brett.github.io/nb2plots/markdown_base.html#links-in-markdown), via\n",
    "the `:ref:` role, or to [other ReST pages](https://matthew-brett.github.io/nb2plots/scripts.html), using the\n",
    "`:doc:` role.  Links can also be to files to download, such as\n",
    "[conf.py](https://matthew-brett.github.io/nb2plots/_downloads/conf.py).\n",
    "\n",
    "It’s often the case that you have built HTTP pages on the web somewhere, so it\n",
    "would make sense for the built Markdown to point to the HTTP versions of these\n",
    "links, rather than dropping them.\n",
    "\n",
    "You can tell `nb2plots` where your built HTTP docs are, by setting the\n",
    "`markdown_http_base` value in your `conf.py` file, like this:\n",
    "\n",
    "```\n",
    "markdown_http_base = 'https://example.com'\n",
    "```\n",
    "\n",
    "If you set this value to any string other than the empty string, the Markdown\n",
    "builders will use this base URL to resolve internal links.\n",
    "\n",
    "In fact, I’ve set that option in the `conf.py` for this project, like this:\n",
    "\n",
    "```\n",
    "markdown_http_base = 'https://matthew-brett.github.io/nb2plots'\n",
    "```\n",
    "\n",
    "Have a look at the generated Python code and Notebook code for this page, via\n",
    "the links below.  You should see that the Markdown links resolve to the HTTP\n",
    "pages at [https://matthew-brett.github.io/nb2plots](https://matthew-brett.github.io/nb2plots)."
   ]
  }
 ],
 "metadata": {},
 "nbformat": 4,
 "nbformat_minor": 2
}