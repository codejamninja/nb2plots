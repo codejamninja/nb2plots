{
 "cells": [
  {
   "cell_type": "markdown",
   "metadata": {},
   "source": [
    "## Another title\n",
    "\n",
    "Here a `literal` followed by a:\n",
    "\n",
    "```\n",
    "Literal block, not :math:`parsed`.\n",
    "```\n",
    "\n",
    "On it goes."
   ]
  }
 ],
 "metadata": {},
 "nbformat": 4,
 "nbformat_minor": 1
}